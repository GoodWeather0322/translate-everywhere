{
 "cells": [
  {
   "cell_type": "markdown",
   "metadata": {},
   "source": [
    "#### source language detection\n"
   ]
  },
  {
   "cell_type": "code",
   "execution_count": 1,
   "metadata": {},
   "outputs": [],
   "source": [
    "from dotenv import load_dotenv\n",
    "import os\n",
    "load_dotenv()\n",
    "\n",
    "speech_key, service_region = os.getenv('AZURE_SPEECH_KEY'), os.getenv('AZURE_SERVICE_REGION')"
   ]
  },
  {
   "cell_type": "code",
   "execution_count": 14,
   "metadata": {},
   "outputs": [],
   "source": [
    "import os\n",
    "import azure.cognitiveservices.speech as speechsdk\n",
    "import torchaudio\n",
    "\n",
    "def convert_16k(wav_file):\n",
    "    data, sr = torchaudio.load(wav_file)\n",
    "    if sr != 16000:\n",
    "        data = torchaudio.functional.resample(data, sr, 16000)\n",
    "        new_wav_file = wav_file.replace(\".wav\", \"_16k.wav\")\n",
    "        torchaudio.save(new_wav_file, data, 16000)\n",
    "        return new_wav_file\n",
    "    return wav_file\n",
    "\n",
    "wav_file = \"/mnt/disk1/chris/uaicraft_workspace/translate-everywhere/uploaded_audio/20240530/20240530173836.wav\"\n",
    "wav_file = convert_16k(wav_file)"
   ]
  },
  {
   "cell_type": "code",
   "execution_count": 19,
   "metadata": {},
   "outputs": [
    {
     "name": "stdout",
     "output_type": "stream",
     "text": [
      "SESSION STARTED: SessionEventArgs(session_id=c19f523f7fa74fa4ab77fb086bd4502f)\n",
      "Detected language = zh-tw\n",
      "Start offset = 0, End offset = 15000000, Duration = 15000000 (in units of hundreds of nanoseconds (HNS))\n",
      "Detected language = zh-tw\n",
      "Start offset = 14990000, End offset = 24990000, Duration = 10000000 (in units of hundreds of nanoseconds (HNS))\n",
      "Detected language = zh-tw\n",
      "Start offset = 24990000, End offset = 34990000, Duration = 10000000 (in units of hundreds of nanoseconds (HNS))\n",
      "Detected language = zh-tw\n",
      "Start offset = 34990000, End offset = 44990000, Duration = 10000000 (in units of hundreds of nanoseconds (HNS))\n",
      "Detected language = zh-tw\n",
      "Start offset = 44990000, End offset = 54990000, Duration = 10000000 (in units of hundreds of nanoseconds (HNS))\n",
      "Detected language = zh-tw\n",
      "Start offset = 54990000, End offset = 64990000, Duration = 10000000 (in units of hundreds of nanoseconds (HNS))\n",
      "Detected language = zh-tw\n",
      "Start offset = 64990000, End offset = 80210000, Duration = 15220000 (in units of hundreds of nanoseconds (HNS))\n",
      "Detected language = unknown\n",
      "Start offset = 80210000, End offset = 80210000, Duration = 0 (in units of hundreds of nanoseconds (HNS))\n",
      "CANCELED SpeechRecognitionCanceledEventArgs(session_id=c19f523f7fa74fa4ab77fb086bd4502f, result=SpeechRecognitionResult(result_id=982cf2a0c7b54dfd90c4a82c794277f3, text=\"\", reason=ResultReason.Canceled))\n",
      "CLOSING on SpeechRecognitionCanceledEventArgs(session_id=c19f523f7fa74fa4ab77fb086bd4502f, result=SpeechRecognitionResult(result_id=982cf2a0c7b54dfd90c4a82c794277f3, text=\"\", reason=ResultReason.Canceled))\n",
      "SESSION STOPPED SessionEventArgs(session_id=c19f523f7fa74fa4ab77fb086bd4502f)\n",
      "CLOSING on SessionEventArgs(session_id=c19f523f7fa74fa4ab77fb086bd4502f)\n"
     ]
    }
   ],
   "source": [
    "import time\n",
    "import json\n",
    "\n",
    "def speech_language_detection_once_from_continuous():\n",
    "    \"\"\"performs continuous speech language detection with input from an audio file\"\"\"\n",
    "    # <SpeechContinuousLanguageDetectionWithFile>\n",
    "    # Creates an AutoDetectSourceLanguageConfig, which defines a number of possible spoken languages\n",
    "    auto_detect_source_language_config = \\\n",
    "        speechsdk.languageconfig.AutoDetectSourceLanguageConfig(languages=[\"zh-TW\", \"en-US\"])\n",
    "\n",
    "    # Creates a SpeechConfig from your speech key and region\n",
    "    speech_config = speechsdk.SpeechConfig(subscription=speech_key, region=service_region)\n",
    "\n",
    "    # Set continuous language detection (override the default of \"AtStart\")\n",
    "    speech_config.set_property(\n",
    "        property_id=speechsdk.PropertyId.SpeechServiceConnection_LanguageIdMode, value='Continuous')\n",
    "\n",
    "    audio_config = speechsdk.audio.AudioConfig(filename=wav_file)\n",
    "\n",
    "    source_language_recognizer = speechsdk.SourceLanguageRecognizer(\n",
    "        speech_config=speech_config,\n",
    "        auto_detect_source_language_config=auto_detect_source_language_config,\n",
    "        audio_config=audio_config)\n",
    "\n",
    "    done = False\n",
    "\n",
    "    def stop_cb(evt: speechsdk.SessionEventArgs):\n",
    "        \"\"\"callback that signals to stop continuous recognition upon receiving an event `evt`\"\"\"\n",
    "        print('CLOSING on {}'.format(evt))\n",
    "        nonlocal done\n",
    "        done = True\n",
    "\n",
    "    def audio_recognized(evt: speechsdk.SpeechRecognitionEventArgs):\n",
    "        \"\"\"\n",
    "        callback that catches the recognized result of audio from an event 'evt'.\n",
    "        :param evt: event listened to catch recognition result.\n",
    "        :return:\n",
    "        \"\"\"\n",
    "        if evt.result.reason == speechsdk.ResultReason.RecognizedSpeech:\n",
    "            if evt.result.properties.get(\n",
    "                    speechsdk.PropertyId.SpeechServiceConnection_AutoDetectSourceLanguageResult) is None:\n",
    "                print(\"Unable to detect any language\")\n",
    "            else:\n",
    "                detected_src_lang = evt.result.properties[\n",
    "                    speechsdk.PropertyId.SpeechServiceConnection_AutoDetectSourceLanguageResult]\n",
    "                json_result = evt.result.properties[speechsdk.PropertyId.SpeechServiceResponse_JsonResult]\n",
    "                detail_result = json.loads(json_result)\n",
    "                start_offset = detail_result['Offset']\n",
    "                duration = detail_result['Duration']\n",
    "                if duration >= 0:\n",
    "                    end_offset = duration + start_offset\n",
    "                else:\n",
    "                    end_offset = 0\n",
    "                print(\"Detected language = \" + detected_src_lang)\n",
    "                print(f\"Start offset = {start_offset}, End offset = {end_offset}, \"\n",
    "                      f\"Duration = {duration} (in units of hundreds of nanoseconds (HNS))\")\n",
    "                global language_detected\n",
    "                language_detected = True\n",
    "\n",
    "    # Connect callbacks to the events fired by the speech recognizer\n",
    "    source_language_recognizer.recognized.connect(audio_recognized)\n",
    "    source_language_recognizer.session_started.connect(lambda evt: print('SESSION STARTED: {}'.format(evt)))\n",
    "    source_language_recognizer.session_stopped.connect(lambda evt: print('SESSION STOPPED {}'.format(evt)))\n",
    "    source_language_recognizer.canceled.connect(lambda evt: print('CANCELED {}'.format(evt)))\n",
    "    # stop continuous recognition on either session stopped or canceled events\n",
    "    source_language_recognizer.session_stopped.connect(stop_cb)\n",
    "    source_language_recognizer.canceled.connect(stop_cb)\n",
    "\n",
    "    # Start continuous speech recognition\n",
    "    source_language_recognizer.start_continuous_recognition()\n",
    "    while not done:\n",
    "        time.sleep(.5)\n",
    "\n",
    "    source_language_recognizer.stop_continuous_recognition()\n",
    "    # </SpeechContinuousLanguageDetectionWithFile>\n",
    "\n",
    "speech_language_detection_once_from_continuous()"
   ]
  },
  {
   "cell_type": "code",
   "execution_count": null,
   "metadata": {},
   "outputs": [],
   "source": []
  }
 ],
 "metadata": {
  "kernelspec": {
   "display_name": "translate-everywhere",
   "language": "python",
   "name": "python3"
  },
  "language_info": {
   "codemirror_mode": {
    "name": "ipython",
    "version": 3
   },
   "file_extension": ".py",
   "mimetype": "text/x-python",
   "name": "python",
   "nbconvert_exporter": "python",
   "pygments_lexer": "ipython3",
   "version": "3.10.14"
  }
 },
 "nbformat": 4,
 "nbformat_minor": 2
}
