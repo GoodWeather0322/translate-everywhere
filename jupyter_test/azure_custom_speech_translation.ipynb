{
 "cells": [
  {
   "cell_type": "markdown",
   "metadata": {},
   "source": [
    "#### 語音直接翻譯，AZURE直接整合 speech -> text -> translation"
   ]
  },
  {
   "cell_type": "code",
   "execution_count": 1,
   "metadata": {},
   "outputs": [
    {
     "data": {
      "text/plain": [
       "True"
      ]
     },
     "execution_count": 1,
     "metadata": {},
     "output_type": "execute_result"
    }
   ],
   "source": [
    "from dotenv import load_dotenv\n",
    "import os\n",
    "load_dotenv()"
   ]
  },
  {
   "cell_type": "code",
   "execution_count": 3,
   "metadata": {},
   "outputs": [
    {
     "name": "stdout",
     "output_type": "stream",
     "text": [
      "Recognized: 晚上繼續寫成是。\n",
      "Translated into 'ja': イブニングは「はい」と書き続けます。\n"
     ]
    }
   ],
   "source": [
    "import os\n",
    "import azure.cognitiveservices.speech as speechsdk\n",
    "import torchaudio\n",
    "\n",
    "def convert_16k(wav_file):\n",
    "    data, sr = torchaudio.load(wav_file)\n",
    "    if sr != 16000:\n",
    "        data = torchaudio.functional.resample(data, sr, 16000)\n",
    "        new_wav_file = wav_file.replace(\".wav\", \"_16k.wav\")\n",
    "        torchaudio.save(new_wav_file, data, 16000)\n",
    "        return new_wav_file\n",
    "    return wav_file\n",
    "\n",
    "wav_file = \"/mnt/disk1/chris/uaicraft_workspace/translate-everywhere/jupyter_test/test.wav\"\n",
    "wav_file = convert_16k(wav_file)\n",
    "\n",
    "# This example requires environment variables named \"SPEECH_KEY\" and \"SPEECH_REGION\"\n",
    "speech_translation_config = speechsdk.translation.SpeechTranslationConfig(subscription=os.getenv('AZURE_SPEECH_KEY'), region=os.getenv('AZURE_SERVICE_REGION'))\n",
    "speech_translation_config.speech_recognition_language=\"zh-TW\"\n",
    "\n",
    "target_language=\"ja\"\n",
    "speech_translation_config.add_target_language(target_language)\n",
    "\n",
    "audio_config = speechsdk.audio.AudioConfig(filename=wav_file)\n",
    "translation_recognizer = speechsdk.translation.TranslationRecognizer(translation_config=speech_translation_config, audio_config=audio_config)\n",
    "\n",
    "translation_recognition_result = translation_recognizer.recognize_once()\n",
    "\n",
    "if translation_recognition_result.reason == speechsdk.ResultReason.TranslatedSpeech:\n",
    "    print(\"Recognized: {}\".format(translation_recognition_result.text))\n",
    "    print(\"\"\"Translated into '{}': {}\"\"\".format(\n",
    "        target_language, \n",
    "        translation_recognition_result.translations[target_language]))\n",
    "elif translation_recognition_result.reason == speechsdk.ResultReason.NoMatch:\n",
    "    print(\"No speech could be recognized: {}\".format(translation_recognition_result.no_match_details))\n",
    "elif translation_recognition_result.reason == speechsdk.ResultReason.Canceled:\n",
    "    cancellation_details = translation_recognition_result.cancellation_details\n",
    "    print(\"Speech Recognition canceled: {}\".format(cancellation_details.reason))\n",
    "    if cancellation_details.reason == speechsdk.CancellationReason.Error:\n",
    "        print(\"Error details: {}\".format(cancellation_details.error_details))\n",
    "        print(\"Did you set the speech resource key and region values?\")"
   ]
  },
  {
   "cell_type": "markdown",
   "metadata": {},
   "source": [
    "#### 語音 to 語音 ， azure直接整合 speech -> text -> translation -> synthesis speech"
   ]
  },
  {
   "cell_type": "code",
   "execution_count": 3,
   "metadata": {},
   "outputs": [
    {
     "name": "stdout",
     "output_type": "stream",
     "text": [
      "Say something in \"zh-TW\" and we'll translate into \"ja\".\n",
      "Audio synthesized: 118444 byte(s) \n",
      "Audio synthesized: 0 byte(s) (COMPLETED)\n",
      "Recognized \"zh-TW\": 晚上繼續寫成是。\n",
      "Translated into \"ja\"\": イブニングは「はい」と書き続けます。\n"
     ]
    }
   ],
   "source": [
    "import os\n",
    "import azure.cognitiveservices.speech as speechsdk\n",
    "\n",
    "speech_key, service_region = os.getenv('AZURE_SPEECH_KEY'), os.getenv('AZURE_SERVICE_REGION')\n",
    "from_language, to_language = 'zh-TW', 'ja'\n",
    "\n",
    "wav_file = \"/mnt/disk1/chris/uaicraft_workspace/translate-everywhere/jupyter_test/test.wav\"\n",
    "wav_file = convert_16k(wav_file)\n",
    "\n",
    "def translate_speech_to_text():\n",
    "    translation_config = speechsdk.translation.SpeechTranslationConfig(\n",
    "            subscription=speech_key, region=service_region)\n",
    "\n",
    "    translation_config.speech_recognition_language = from_language\n",
    "    translation_config.add_target_language(to_language)\n",
    "\n",
    "    audio_config = speechsdk.audio.AudioConfig(filename=wav_file)\n",
    "\n",
    "    # See: https://aka.ms/speech/sdkregion#standard-and-neural-voices\n",
    "    translation_config.voice_name = \"ja-JP-AoiNeural\"\n",
    "\n",
    "    translation_recognizer = speechsdk.translation.TranslationRecognizer(translation_config=translation_config, audio_config=audio_config)\n",
    "\n",
    "    def synthesis_callback(evt):\n",
    "        size = len(evt.result.audio)\n",
    "        print(f'Audio synthesized: {size} byte(s) {\"(COMPLETED)\" if size == 0 else \"\"}')\n",
    "\n",
    "        if size > 0:\n",
    "            file = open('translation.wav', 'wb+')\n",
    "            file.write(evt.result.audio)\n",
    "            file.close()\n",
    "\n",
    "    translation_recognizer.synthesizing.connect(synthesis_callback)\n",
    "\n",
    "    print(f'Say something in \"{from_language}\" and we\\'ll translate into \"{to_language}\".')\n",
    "\n",
    "    result = translation_recognizer.recognize_once()\n",
    "    print(get_result_text(reason=result.reason, result=result))\n",
    "\n",
    "def get_result_text(reason, result):\n",
    "    reason_format = {\n",
    "        speechsdk.ResultReason.TranslatedSpeech:\n",
    "            f'Recognized \"{from_language}\": {result.text}\\n' +\n",
    "            f'Translated into \"{to_language}\"\": {result.translations[to_language]}',\n",
    "        speechsdk.ResultReason.RecognizedSpeech: f'Recognized: \"{result.text}\"',\n",
    "        speechsdk.ResultReason.NoMatch: f'No speech could be recognized: {result.no_match_details}',\n",
    "        speechsdk.ResultReason.Canceled: f'Speech Recognition canceled: {result.cancellation_details}'\n",
    "    }\n",
    "    return reason_format.get(reason, 'Unable to recognize speech')\n",
    "\n",
    "translate_speech_to_text()"
   ]
  },
  {
   "cell_type": "markdown",
   "metadata": {},
   "source": [
    "#### 語音 to 語音 ， 也可以先產生翻譯，再TTS。 speech -> text -> translation； translation -> synthesis speech"
   ]
  },
  {
   "cell_type": "code",
   "execution_count": 4,
   "metadata": {},
   "outputs": [
    {
     "name": "stdout",
     "output_type": "stream",
     "text": [
      "Recognized: \"晚上繼續寫成是。\"\n",
      "Translated into \"ja\": イブニングは「はい」と書き続けます。\n"
     ]
    }
   ],
   "source": [
    "import os\n",
    "import azure.cognitiveservices.speech as speechsdk\n",
    "\n",
    "speech_key, service_region = os.getenv('AZURE_SPEECH_KEY'), os.getenv('AZURE_SERVICE_REGION')\n",
    "from_language, to_language = 'zh-TW', 'ja'\n",
    "\n",
    "wav_file = \"/mnt/disk1/chris/uaicraft_workspace/translate-everywhere/jupyter_test/test.wav\"\n",
    "wav_file = convert_16k(wav_file)\n",
    "\n",
    "def translate_speech_to_text():\n",
    "    translation_config = speechsdk.translation.SpeechTranslationConfig(\n",
    "            subscription=speech_key, region=service_region)\n",
    "\n",
    "    translation_config.speech_recognition_language = from_language\n",
    "    translation_config.add_target_language(to_language)\n",
    "\n",
    "    audio_config = speechsdk.audio.AudioConfig(filename=wav_file)\n",
    "    translation_recognizer = speechsdk.translation.TranslationRecognizer(translation_config=translation_config, audio_config=audio_config)\n",
    "    \n",
    "    result = translation_recognizer.recognize_once()\n",
    "    synthesize_translations(result=result)\n",
    "\n",
    "def synthesize_translations(result):\n",
    "    language_to_voice_map = {\n",
    "        \"de\": \"de-DE-KatjaNeural\",\n",
    "        \"en\": \"en-US-AriaNeural\",\n",
    "        \"it\": \"it-IT-ElsaNeural\",\n",
    "        \"pt\": \"pt-BR-FranciscaNeural\",\n",
    "        \"zh-Hans\": \"zh-CN-XiaoxiaoNeural\", \n",
    "        'ja': \"ja-JP-AoiNeural\"\n",
    "    }\n",
    "    print(f'Recognized: \"{result.text}\"')\n",
    "\n",
    "    for language in result.translations:\n",
    "        translation = result.translations[language]\n",
    "        print(f'Translated into \"{language}\": {translation}')\n",
    "\n",
    "        speech_config = speechsdk.SpeechConfig(subscription=speech_key, region=service_region)\n",
    "        speech_config.speech_synthesis_voice_name = language_to_voice_map.get(language)\n",
    "        \n",
    "        audio_config = speechsdk.audio.AudioOutputConfig(filename=f'{language}-translation.wav')\n",
    "        speech_synthesizer = speechsdk.SpeechSynthesizer(speech_config=speech_config, audio_config=audio_config)\n",
    "        speech_synthesizer.speak_text_async(translation).get()\n",
    "\n",
    "translate_speech_to_text()"
   ]
  },
  {
   "cell_type": "code",
   "execution_count": null,
   "metadata": {},
   "outputs": [],
   "source": []
  },
  {
   "cell_type": "markdown",
   "metadata": {},
   "source": [
    "#### continuos translation"
   ]
  },
  {
   "cell_type": "code",
   "execution_count": 10,
   "metadata": {},
   "outputs": [
    {
     "name": "stdout",
     "output_type": "stream",
     "text": [
      "SESSION STARTED: SessionEventArgs(session_id=8152e3a5a0a142349f5c06aca1fe547c)\n",
      "RECOGNIZING:\n",
      " TranslationRecognitionEventArgs(session_id=8152e3a5a0a142349f5c06aca1fe547c, result=TranslationRecognitionResult(result_id=084a54e322b944ea9457f476869596b7, translations={'en': 'Today colleagues'}, reason=ResultReason.TranslatingSpeech))\n",
      "\tTranslations: dict_items([('en', 'Today colleagues')])\n",
      "\tResult Json: 7500000\n",
      "\n",
      "RECOGNIZING:\n",
      " TranslationRecognitionEventArgs(session_id=8152e3a5a0a142349f5c06aca1fe547c, result=TranslationRecognitionResult(result_id=dec40b893e5147f1a9aac45f1d86b11a, translations={'en': 'Today a colleague went to see us in the hospital'}, reason=ResultReason.TranslatingSpeech))\n",
      "\tTranslations: dict_items([('en', 'Today a colleague went to see us in the hospital')])\n",
      "\tResult Json: 7500000\n",
      "\n",
      "RECOGNIZING:\n",
      " TranslationRecognitionEventArgs(session_id=8152e3a5a0a142349f5c06aca1fe547c, result=TranslationRecognitionResult(result_id=e9fd629331c2444890cb254f5b4a61bf, translations={'en': 'Today, my colleague went to the hospital to see what was wrong with our software, and the result was on the spot'}, reason=ResultReason.TranslatingSpeech))\n",
      "\tTranslations: dict_items([('en', 'Today, my colleague went to the hospital to see what was wrong with our software, and the result was on the spot')])\n",
      "\tResult Json: 7500000\n",
      "\n",
      "RECOGNIZING:\n",
      " TranslationRecognitionEventArgs(session_id=8152e3a5a0a142349f5c06aca1fe547c, result=TranslationRecognitionResult(result_id=dbbe2d5a2d564ede98397c1bc187539c, translations={'en': 'Today, my colleague went to the hospital to see what was wrong with our software, but when I arrived at the scene, I found that there was no problem at all'}, reason=ResultReason.TranslatingSpeech))\n",
      "\tTranslations: dict_items([('en', 'Today, my colleague went to the hospital to see what was wrong with our software, but when I arrived at the scene, I found that there was no problem at all')])\n",
      "\tResult Json: 7500000\n",
      "\n",
      "RECOGNIZED:\n",
      " TranslationRecognitionEventArgs(session_id=8152e3a5a0a142349f5c06aca1fe547c, result=TranslationRecognitionResult(result_id=f185f5812dc4407991d560754a64a973, translations={'en': 'Today, my colleague went to the hospital to see what was wrong with our software, but when I arrived at the scene, I found that there was no problem at all.'}, reason=ResultReason.TranslatedSpeech))\n",
      "\tTranslations: dict_items([('en', 'Today, my colleague went to the hospital to see what was wrong with our software, but when I arrived at the scene, I found that there was no problem at all.')])\n",
      "\tResult Json: 7400000\n",
      "\n",
      "SYNTHESIZING TranslationSynthesisEventArgs(session_id=8152e3a5a0a142349f5c06aca1fe547c, result=TranslationSynthesisResult(audio=<287244 bytes of audio>, reason=ResultReason.SynthesizingAudio))\n",
      "\treceived 287244 bytes of audio. Reason: ResultReason.SynthesizingAudio\n",
      "SYNTHESIZING TranslationSynthesisEventArgs(session_id=8152e3a5a0a142349f5c06aca1fe547c, result=TranslationSynthesisResult(audio=<0 bytes of audio>, reason=ResultReason.SynthesizingAudioCompleted))\n",
      "\treceived 0 bytes of audio. Reason: ResultReason.SynthesizingAudioCompleted\n",
      "CANCELED:\n",
      "\tReason:ResultReason.Canceled\n",
      "\n",
      "\tDetails: TranslationRecognitionCanceledEventArgs(session_id=8152e3a5a0a142349f5c06aca1fe547c, result=TranslationRecognitionResult(result_id=9fc0e529d6764b54ba9758cbd8fe5c28, translations={}, reason=ResultReason.Canceled)) ()\n",
      "CLOSING on TranslationRecognitionCanceledEventArgs(session_id=8152e3a5a0a142349f5c06aca1fe547c, result=TranslationRecognitionResult(result_id=9fc0e529d6764b54ba9758cbd8fe5c28, translations={}, reason=ResultReason.Canceled))\n",
      "SESSION STOPPED SessionEventArgs(session_id=8152e3a5a0a142349f5c06aca1fe547c)\n",
      "CLOSING on SessionEventArgs(session_id=8152e3a5a0a142349f5c06aca1fe547c)\n"
     ]
    }
   ],
   "source": [
    "import time\n",
    "speech_key, service_region, endpoint = os.getenv('AZURE_CUSTOM_SPEECH_KEY'), os.getenv('AZURE_CUSTOM_SERVICE_REGION'), os.getenv('AZURE_CUSTOM_ENDPOINT')\n",
    "def translation_continuous():\n",
    "    \"\"\"performs continuous speech translation from an audio file\"\"\"\n",
    "    # <TranslationContinuous>\n",
    "    # set up translation parameters: source language and target languages\n",
    "    translation_config = speechsdk.translation.SpeechTranslationConfig(\n",
    "        subscription=speech_key, region=service_region)\n",
    "    translation_config.endpoint_id=endpoint\n",
    "    translation_config.speech_recognition_language = 'zh-TW'\n",
    "    translation_config.add_target_language('en')\n",
    "    translation_config.voice_name = \"en-US-AvaNeural\"\n",
    "    wav_file = \"/mnt/disk1/chris/uaicraft_workspace/translate-everywhere/uploaded_audio/20240530/20240530173836.wav\"\n",
    "    audio_config = speechsdk.audio.AudioConfig(filename=wav_file)\n",
    "\n",
    "    # Creates a translation recognizer using and audio file as input.\n",
    "    recognizer = speechsdk.translation.TranslationRecognizer(\n",
    "        translation_config=translation_config, audio_config=audio_config)\n",
    "\n",
    "    def result_callback(event_type: str, evt: speechsdk.translation.TranslationRecognitionEventArgs):\n",
    "        \"\"\"callback to display a translation result\"\"\"\n",
    "        print(\"{}:\\n {}\\n\\tTranslations: {}\\n\\tResult Json: {}\\n\".format(\n",
    "            event_type, evt, evt.result.translations.items(), evt.result.offset))\n",
    "\n",
    "    done = False\n",
    "\n",
    "    def stop_cb(evt: speechsdk.SessionEventArgs):\n",
    "        \"\"\"callback that signals to stop continuous recognition upon receiving an event `evt`\"\"\"\n",
    "        print('CLOSING on {}'.format(evt))\n",
    "        nonlocal done\n",
    "        done = True\n",
    "\n",
    "    def canceled_cb(evt: speechsdk.translation.TranslationRecognitionCanceledEventArgs):\n",
    "        print('CANCELED:\\n\\tReason:{}\\n'.format(evt.result.reason))\n",
    "        print('\\tDetails: {} ({})'.format(evt, evt.result.cancellation_details.error_details))\n",
    "\n",
    "    # connect callback functions to the events fired by the recognizer\n",
    "    recognizer.session_started.connect(lambda evt: print('SESSION STARTED: {}'.format(evt)))\n",
    "    recognizer.session_stopped.connect(lambda evt: print('SESSION STOPPED {}'.format(evt)))\n",
    "    # event for intermediate results\n",
    "    recognizer.recognizing.connect(lambda evt: result_callback('RECOGNIZING', evt))\n",
    "    # event for final result\n",
    "    recognizer.recognized.connect(lambda evt: result_callback('RECOGNIZED', evt))\n",
    "    # cancellation event\n",
    "    recognizer.canceled.connect(canceled_cb)\n",
    "\n",
    "    # stop continuous recognition on either session stopped or canceled events\n",
    "    recognizer.session_stopped.connect(stop_cb)\n",
    "    recognizer.canceled.connect(stop_cb)\n",
    "\n",
    "    def synthesis_callback(evt: speechsdk.translation.TranslationRecognitionEventArgs):\n",
    "        \"\"\"\n",
    "        callback for the synthesis event\n",
    "        \"\"\"\n",
    "        print('SYNTHESIZING {}\\n\\treceived {} bytes of audio. Reason: {}'.format(\n",
    "            evt, len(evt.result.audio), evt.result.reason))\n",
    "\n",
    "    # connect callback to the synthesis event\n",
    "    recognizer.synthesizing.connect(synthesis_callback)\n",
    "\n",
    "    # start translation\n",
    "    recognizer.start_continuous_recognition()\n",
    "\n",
    "    while not done:\n",
    "        time.sleep(.5)\n",
    "\n",
    "    recognizer.stop_continuous_recognition()\n",
    "    # </TranslationContinuous>\n",
    "\n",
    "translation_continuous()"
   ]
  },
  {
   "cell_type": "code",
   "execution_count": 25,
   "metadata": {},
   "outputs": [],
   "source": [
    "import torchaudio\n",
    "wav_file = '/mnt/disk1/chris/uaicraft_workspace/translate-everywhere/uploaded_audio/20240523/20240523135717.wav'\n",
    "Duration = 20200000\n",
    "Offset = 4700000\n",
    "\n",
    "## use Duration(ticks) and Offset(ticks) to cut the wav file\n",
    "data, sr = torchaudio.load(wav_file)"
   ]
  },
  {
   "cell_type": "code",
   "execution_count": 26,
   "metadata": {},
   "outputs": [
    {
     "data": {
      "text/plain": [
       "(2.02, 0.47)"
      ]
     },
     "execution_count": 26,
     "metadata": {},
     "output_type": "execute_result"
    }
   ],
   "source": [
    "Duration / 10000000, Offset / 10000000"
   ]
  },
  {
   "cell_type": "code",
   "execution_count": 31,
   "metadata": {},
   "outputs": [],
   "source": [
    "start = int(Offset / 10000000*16000)\n",
    "end = start + int(Duration / 10000000*16000)\n",
    "torchaudio.save('/mnt/disk1/chris/uaicraft_workspace/translate-everywhere/uploaded_audio/test.wav', data[:, start:end], 16000)"
   ]
  },
  {
   "cell_type": "code",
   "execution_count": null,
   "metadata": {},
   "outputs": [],
   "source": []
  }
 ],
 "metadata": {
  "kernelspec": {
   "display_name": "translate-everywhere",
   "language": "python",
   "name": "python3"
  },
  "language_info": {
   "codemirror_mode": {
    "name": "ipython",
    "version": 3
   },
   "file_extension": ".py",
   "mimetype": "text/x-python",
   "name": "python",
   "nbconvert_exporter": "python",
   "pygments_lexer": "ipython3",
   "version": "3.10.14"
  }
 },
 "nbformat": 4,
 "nbformat_minor": 2
}
