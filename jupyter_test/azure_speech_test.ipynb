{
 "cells": [
  {
   "cell_type": "code",
   "execution_count": 1,
   "metadata": {},
   "outputs": [],
   "source": [
    "# REST API\n",
    "# curl --location --request POST 'https://YOUR_AZURE_REGION.stt.speech.microsoft.com/speech/recognition/conversation/cognitiveservices/v1?language=en-US' --header 'Ocp-Apim-Subscription-Key: YOUR_AZURE_SPEECH_KEY' --header 'Content-Type: audio/wav' --data-binary @'/mnt/disk1/chris/OpenVoice/resources/en-US-Neural2-D_evas-go.wav'"
   ]
  },
  {
   "cell_type": "code",
   "execution_count": 2,
   "metadata": {},
   "outputs": [],
   "source": [
    "from dotenv import load_dotenv\n",
    "import os"
   ]
  },
  {
   "cell_type": "code",
   "execution_count": 6,
   "metadata": {},
   "outputs": [
    {
     "data": {
      "text/plain": [
       "True"
      ]
     },
     "execution_count": 6,
     "metadata": {},
     "output_type": "execute_result"
    }
   ],
   "source": [
    "load_dotenv()"
   ]
  },
  {
   "cell_type": "code",
   "execution_count": null,
   "metadata": {},
   "outputs": [],
   "source": []
  },
  {
   "cell_type": "code",
   "execution_count": 15,
   "metadata": {},
   "outputs": [
    {
     "name": "stdout",
     "output_type": "stream",
     "text": [
      "今天午餐要吃什麼？\n"
     ]
    }
   ],
   "source": [
    "import azure.cognitiveservices.speech as speechsdk\n",
    "import torchaudio\n",
    "\n",
    "def covert_16k(wav_file):\n",
    "    data, sr = torchaudio.load(wav_file)\n",
    "    if sr != 16000:\n",
    "        data = torchaudio.functional.resample(data, sr, 16000)\n",
    "        new_wav_file = wav_file.replace(\".wav\", \"_16k.wav\")\n",
    "        torchaudio.save(new_wav_file, data, 16000)\n",
    "        return new_wav_file\n",
    "    return wav_file\n",
    "\n",
    "wav_file = \"/mnt/disk1/chris/uaicraft_workspace/translate-everywhere/jupyter_test/test.wav\"\n",
    "wav_file = covert_16k(wav_file)\n",
    "\n",
    "speech_config = speechsdk.SpeechConfig(subscription=os.getenv('AZURE_SPEECH_KEY'), region=os.getenv('AZURE_SERVICE_REGION'))\n",
    "speech_config.speech_recognition_language=\"zh-TW\"\n",
    "audio_config = speechsdk.AudioConfig(filename=wav_file)\n",
    "\n",
    "speech_recognizer = speechsdk.SpeechRecognizer(speech_config=speech_config, audio_config=audio_config)\n",
    "\n",
    "result = speech_recognizer.recognize_once()\n",
    "print(result.text)"
   ]
  },
  {
   "cell_type": "code",
   "execution_count": 10,
   "metadata": {},
   "outputs": [
    {
     "name": "stdout",
     "output_type": "stream",
     "text": [
      "Speech Recognition canceled: CancellationReason.Error\n",
      "Error details: Runtime error: Failed to initialize platform (azure-c-shared). Error: 2176 SessionId: 526e7aef40a643518bd9c6780010bc79\n",
      "Did you set the speech resource key and region values?\n"
     ]
    }
   ],
   "source": [
    "if result.reason == speechsdk.ResultReason.RecognizedSpeech:\n",
    "    print(\"Recognized: {}\".format(result.text))\n",
    "elif result.reason == speechsdk.ResultReason.NoMatch:\n",
    "    print(\"No speech could be recognized: {}\".format(result.no_match_details))\n",
    "elif result.reason == speechsdk.ResultReason.Canceled:\n",
    "    cancellation_details = result.cancellation_details\n",
    "    print(\"Speech Recognition canceled: {}\".format(cancellation_details.reason))\n",
    "    if cancellation_details.reason == speechsdk.CancellationReason.Error:\n",
    "        print(\"Error details: {}\".format(cancellation_details.error_details))\n",
    "        print(\"Did you set the speech resource key and region values?\")"
   ]
  },
  {
   "cell_type": "code",
   "execution_count": 10,
   "metadata": {},
   "outputs": [
    {
     "data": {
      "text/plain": [
       "(torch.Size([1, 62784]), 24000)"
      ]
     },
     "execution_count": 10,
     "metadata": {},
     "output_type": "execute_result"
    }
   ],
   "source": [
    "import torchaudio\n",
    "\n",
    "data, sr = torchaudio.load(\"/mnt/disk1/chris/uaicraft_workspace/translate-everywhere/jupyter_test/test.wav\")\n",
    "\n",
    "data.shape, sr"
   ]
  },
  {
   "cell_type": "code",
   "execution_count": null,
   "metadata": {},
   "outputs": [],
   "source": []
  }
 ],
 "metadata": {
  "kernelspec": {
   "display_name": "translate-everywhere",
   "language": "python",
   "name": "python3"
  },
  "language_info": {
   "codemirror_mode": {
    "name": "ipython",
    "version": 3
   },
   "file_extension": ".py",
   "mimetype": "text/x-python",
   "name": "python",
   "nbconvert_exporter": "python",
   "pygments_lexer": "ipython3",
   "version": "3.10.14"
  }
 },
 "nbformat": 4,
 "nbformat_minor": 2
}
