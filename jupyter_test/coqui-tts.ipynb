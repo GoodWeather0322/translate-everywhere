{
 "cells": [
  {
   "cell_type": "code",
   "execution_count": null,
   "metadata": {},
   "outputs": [],
   "source": [
    "import torch\n",
    "from TTS.api import TTS\n",
    "\n",
    "# Get device\n",
    "device = \"cuda\" if torch.cuda.is_available() else \"cpu\"\n",
    "\n",
    "# List available 🐸TTS models\n",
    "for model in TTS().list_models():\n",
    "    print(model)"
   ]
  },
  {
   "cell_type": "code",
   "execution_count": null,
   "metadata": {},
   "outputs": [],
   "source": [
    "# Init TTS\n",
    "tts = TTS(\"tts_models/multilingual/multi-dataset/xtts_v2\").to(device)"
   ]
  },
  {
   "cell_type": "code",
   "execution_count": null,
   "metadata": {},
   "outputs": [],
   "source": [
    "# Run TTS\n",
    "# ❗ Since this model is multi-lingual voice cloning model, we must set the target speaker_wav and language\n",
    "# Text to speech list of amplitude values as output\n",
    "speaker_wav = \"/mnt/disk1/chris/uaicraft_workspace/translate-everywhere/uploaded_audio/20240523/20240523133107.wav\"\n",
    "# wav = tts.tts(text=\"he is an idoit\", speaker_wav=speaker_wav, language=\"en\")\n",
    "# Text to speech to a file\n",
    "tts.tts_to_file(text=\"Did you ever hear a folk tale about a giant turtle?\", emotion='happy', speaker_wav=speaker_wav, language=\"en\", file_path=\"output.wav\")"
   ]
  },
  {
   "cell_type": "code",
   "execution_count": null,
   "metadata": {},
   "outputs": [],
   "source": []
  },
  {
   "cell_type": "code",
   "execution_count": null,
   "metadata": {},
   "outputs": [],
   "source": [
    "# Init TTS with the target model name\n",
    "tts = TTS(model_name=\"tts_models/en/ljspeech/tacotron2-DDC\", progress_bar=False)\n",
    "# Run TTS\n",
    "tts.tts_to_file(text=\"one two three four five.\", emotion='exciting', file_path='output.wav')"
   ]
  },
  {
   "cell_type": "code",
   "execution_count": null,
   "metadata": {},
   "outputs": [],
   "source": []
  },
  {
   "cell_type": "code",
   "execution_count": null,
   "metadata": {},
   "outputs": [],
   "source": []
  },
  {
   "cell_type": "code",
   "execution_count": null,
   "metadata": {},
   "outputs": [],
   "source": [
    "tts = TTS(model_name=\"voice_conversion_models/multilingual/vctk/freevc24\", progress_bar=False).to(\"cuda\")"
   ]
  },
  {
   "cell_type": "code",
   "execution_count": null,
   "metadata": {},
   "outputs": [],
   "source": [
    "source_wav = \"/mnt/disk1/chris/uaicraft_workspace/translate-everywhere/jupyter_test/melotts_output/output_v2_en-newest.orig.wav\"\n",
    "target_wav = '/mnt/disk1/chris/uaicraft_workspace/translate-everywhere/uploaded_audio/20240524/20240524121912.wav'\n",
    "tts.voice_conversion_to_file(source_wav=source_wav, target_wav=target_wav, file_path=\"output.wav\")"
   ]
  },
  {
   "cell_type": "code",
   "execution_count": null,
   "metadata": {},
   "outputs": [],
   "source": [
    "tts.voice_conversion_to_file(source_wav=source_wav, target_wav=target_wav, file_path=\"output.wav\")"
   ]
  },
  {
   "cell_type": "code",
   "execution_count": null,
   "metadata": {},
   "outputs": [],
   "source": []
  },
  {
   "cell_type": "code",
   "execution_count": null,
   "metadata": {},
   "outputs": [],
   "source": []
  },
  {
   "cell_type": "code",
   "execution_count": null,
   "metadata": {},
   "outputs": [],
   "source": [
    "from TTS.api import TTS\n",
    "\n",
    "# Load the model to GPU\n",
    "# Bark is really slow on CPU, so we recommend using GPU.\n",
    "tts = TTS(\"tts_models/multilingual/multi-dataset/bark\", gpu=True)\n",
    "\n",
    "\n",
    "# Cloning a new speaker\n",
    "# This expects to find a mp3 or wav file like `bark_voices/new_speaker/speaker.wav`\n",
    "# It computes the cloning values and stores in `bark_voices/new_speaker/speaker.npz`\n",
    "tts.tts_to_file(text=\"Hello, my name is Manmay , how are you?\",\n",
    "                file_path=\"output.wav\",\n",
    "                voice_dir=\"bark_voices/\",\n",
    "                speaker=\"ljspeech\")\n",
    "\n",
    "\n",
    "# When you run it again it uses the stored values to generate the voice.\n",
    "tts.tts_to_file(text=\"Hello, my name is Manmay , how are you?\",\n",
    "                file_path=\"output.wav\",\n",
    "                voice_dir=\"bark_voices/\",\n",
    "                speaker=\"ljspeech\")"
   ]
  },
  {
   "cell_type": "code",
   "execution_count": null,
   "metadata": {},
   "outputs": [],
   "source": []
  },
  {
   "cell_type": "code",
   "execution_count": null,
   "metadata": {},
   "outputs": [],
   "source": []
  }
 ],
 "metadata": {
  "kernelspec": {
   "display_name": "translate-everywhere",
   "language": "python",
   "name": "python3"
  },
  "language_info": {
   "codemirror_mode": {
    "name": "ipython",
    "version": 3
   },
   "file_extension": ".py",
   "mimetype": "text/x-python",
   "name": "python",
   "nbconvert_exporter": "python",
   "pygments_lexer": "ipython3",
   "version": "3.10.14"
  }
 },
 "nbformat": 4,
 "nbformat_minor": 2
}
