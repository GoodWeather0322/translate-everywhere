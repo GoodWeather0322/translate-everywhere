{
 "cells": [
  {
   "cell_type": "code",
   "execution_count": 1,
   "metadata": {},
   "outputs": [
    {
     "data": {
      "text/plain": [
       "True"
      ]
     },
     "execution_count": 1,
     "metadata": {},
     "output_type": "execute_result"
    }
   ],
   "source": [
    "from dotenv import load_dotenv\n",
    "import os\n",
    "load_dotenv()"
   ]
  },
  {
   "cell_type": "code",
   "execution_count": 6,
   "metadata": {},
   "outputs": [
    {
     "name": "stdout",
     "output_type": "stream",
     "text": [
      "Text was translated to: 'it' and the result is: 'Questo è un test'.\n"
     ]
    }
   ],
   "source": [
    "from azure.ai.translation.text import TextTranslationClient, TranslatorCredential\n",
    "from azure.ai.translation.text.models import InputTextItem\n",
    "from azure.core.exceptions import HttpResponseError\n",
    "\n",
    "# set `<your-key>`, `<your-endpoint>`, and  `<region>` variables with the values from the Azure portal\n",
    "key = os.getenv('AZURE_TRANSLATION_KEY')\n",
    "endpoint = os.getenv('AZURE_TRANSLATION_ENDPOINT')\n",
    "region = os.getenv('AZURE_TRANSLATION_REGION')\n",
    "\n",
    "credential = TranslatorCredential(key, region)\n",
    "text_translator = TextTranslationClient(endpoint=endpoint, credential=credential)\n",
    "\n",
    "try:\n",
    "    source_language = \"en\"\n",
    "    target_languages = [\"it\"]\n",
    "    input_text_elements = [ InputTextItem(text = \"This is a test\") ]\n",
    "\n",
    "    response = text_translator.translate(content = input_text_elements, to = target_languages, from_parameter = source_language)\n",
    "    translation = response[0] if response else None\n",
    "\n",
    "    if translation:\n",
    "        for translated_text in translation.translations:\n",
    "            print(f\"Text was translated to: '{translated_text.to}' and the result is: '{translated_text.text}'.\")\n",
    "\n",
    "except HttpResponseError as exception:\n",
    "    print(f\"Error Code: {exception.error.code}\")\n",
    "    print(f\"Message: {exception.error.message}\")\n"
   ]
  },
  {
   "cell_type": "code",
   "execution_count": 8,
   "metadata": {},
   "outputs": [
    {
     "data": {
      "text/plain": [
       "'Questo è un test'"
      ]
     },
     "execution_count": 8,
     "metadata": {},
     "output_type": "execute_result"
    }
   ],
   "source": [
    "translation.translations[0].text"
   ]
  },
  {
   "cell_type": "code",
   "execution_count": null,
   "metadata": {},
   "outputs": [],
   "source": []
  }
 ],
 "metadata": {
  "kernelspec": {
   "display_name": "translate-everywhere",
   "language": "python",
   "name": "python3"
  },
  "language_info": {
   "codemirror_mode": {
    "name": "ipython",
    "version": 3
   },
   "file_extension": ".py",
   "mimetype": "text/x-python",
   "name": "python",
   "nbconvert_exporter": "python",
   "pygments_lexer": "ipython3",
   "version": "3.10.14"
  }
 },
 "nbformat": 4,
 "nbformat_minor": 2
}
